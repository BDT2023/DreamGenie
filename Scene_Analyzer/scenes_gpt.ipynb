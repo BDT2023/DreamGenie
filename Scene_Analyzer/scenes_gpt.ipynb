{
 "cells": [
  {
   "cell_type": "code",
   "execution_count": 13,
   "metadata": {
    "pycharm": {
     "name": "#%%\n"
    }
   },
   "outputs": [],
   "source": [
    "import openai\n",
    "from my_secrets import API_KEY\n",
    "import os\n",
    "import random as rand\n",
    "import pandas as pd\n",
    "openai.api_key = API_KEY"
   ]
  },
  {
   "cell_type": "code",
   "execution_count": 14,
   "metadata": {},
   "outputs": [],
   "source": [
    "dream_list = pd.read_csv('sample_texts_normalized.csv', header=None)"
   ]
  },
  {
   "cell_type": "code",
   "execution_count": 27,
   "metadata": {},
   "outputs": [
    {
     "name": "stdout",
     "output_type": "stream",
     "text": [
      "So we were in this very nice and warm place. i think I know where. We had this large and very modern house, tropically bright and beautiful. My family and a long lost friend were there. I did not know how long we were staying so did not pack enough for the stay. We went out shopping so we could go dancing and site seeing later. It was so relaxing and fun filled. So warm and bright and fluid.  Just like a dream ...\n"
     ]
    }
   ],
   "source": [
    "rand.seed(os.urandom(32))\n",
    "text = dream_list[0][rand.randint(0, len(dream_list)-1)]\n",
    "print(text)"
   ]
  },
  {
   "cell_type": "code",
   "execution_count": 30,
   "metadata": {
    "pycharm": {
     "name": "#%%\n"
    }
   },
   "outputs": [
    {
     "name": "stdout",
     "output_type": "stream",
     "text": [
      "A large, modern house with bright, tropical colors, surrounded by lush greenery. Family and a long lost friend are gathered in the living room, laughing and talking. \n",
      "\n",
      "Scene 2:\n",
      "The group is out shopping, browsing through stores and picking out clothes, accessories, and other items. Everyone is in a cheerful mood, enjoying the day. \n",
      "\n",
      "Scene 3:\n",
      "The group is out dancing and sightseeing, laughing and having a great time. The sun is shining brightly and the atmosphere is relaxed and joyful.\n"
     ]
    }
   ],
   "source": [
    "openai.api_key = API_KEY\n",
    "#model_engine = \"text-curie-001\"\n",
    "model_engine = \"text-davinci-003\"\n",
    "'''\n",
    "https://beta.openai.com/docs/api-reference/completions/create\n",
    "'''\n",
    "command = \"Give short visual descriptions of the scenes in the following:\"\n",
    "prompt = (f\"\"\"{command} {text}\n",
    "Scene 1:\n",
    "\"\"\")\n",
    "completions = openai.Completion.create(\n",
    "    engine=model_engine,\n",
    "    prompt=prompt,\n",
    "    max_tokens=512,\n",
    "    n=1,\n",
    "    stop=None,\n",
    "    temperature=0.45,\n",
    ")\n",
    "\n",
    "# Print the generated text\n",
    "generated_text = completions.choices[0].text\n",
    "print(generated_text)\n",
    "with open(\"out.txt\", \"a+\") as f:\n",
    "    f.write(f'Prompt: {prompt}')\n",
    "    f.write(f'Output: {generated_text}')\n",
    "    f.write(os.linesep)\n",
    "    f.write(f'########################')\n",
    "    f.write(os.linesep)\n"
   ]
  },
  {
   "cell_type": "code",
   "execution_count": 5,
   "metadata": {
    "pycharm": {
     "name": "#%%\n"
    }
   },
   "outputs": [],
   "source": [
    "initial_text = f\"\"\"\n",
    "this is called a “prompt for stable diffusion\" of a portrait of Christina Hendricks with cosmic energy in the background in the art style of artists called \"artgerm\", \"greg rutkowski\" and \"alphonse mucha\":\n",
    "\"Ultra realistic photo portrait of Christina Hendricks cosmic energy, colorful, painting burst, beautiful face, symmetrical face, tone mapped, intricate, elegant, highly detailed, digital painting, artstation, concept art, smooth, sharp focus, illustration, beautiful face, intricate, highly detailed, smooth, sharp focus, art by artgerm and greg rutkowski and alphonse mucha\"\n",
    " \n",
    "The most important keywords are at the beginning and then every additional keywords are separated by a comma. If you add an art style by an artist or multiple artists, this information should always be at the end.\n",
    " When i provide you with input, write me a new \"prompt for stable diffusion\" of the input,By using a similar syntax, but add more details, and condense Condense the description to focus on nouns and adjectives separated by ,\n",
    "Input: {generated_text}\n",
    "\"\"\""
   ]
  },
  {
   "cell_type": "code",
   "execution_count": 6,
   "metadata": {
    "pycharm": {
     "name": "#%%\n"
    }
   },
   "outputs": [
    {
     "name": "stdout",
     "output_type": "stream",
     "text": [
      "\n",
      "Prompt for Stable Diffusion: Mysterious man in a canoe, tranquil river, large anaconda, lone young man, secluded spot, words of encouragement, strength and magic, surreal landscape, adventurous journey.\n"
     ]
    }
   ],
   "source": [
    "completions = openai.Completion.create(\n",
    "    engine=model_engine,\n",
    "    prompt=initial_text,\n",
    "    max_tokens=512,\n",
    "    n=1,\n",
    "    stop=None,\n",
    "    temperature=0.65,\n",
    ")\n",
    "\n",
    "# Print the generated text\n",
    "output = completions.choices[0].text\n",
    "print(output)"
   ]
  }
 ],
 "metadata": {
  "kernelspec": {
   "display_name": "base",
   "language": "python",
   "name": "python3"
  },
  "language_info": {
   "codemirror_mode": {
    "name": "ipython",
    "version": 3
   },
   "file_extension": ".py",
   "mimetype": "text/x-python",
   "name": "python",
   "nbconvert_exporter": "python",
   "pygments_lexer": "ipython3",
   "version": "3.9.12"
  },
  "orig_nbformat": 4,
  "vscode": {
   "interpreter": {
    "hash": "37f3578b87c31b783d1ad88d8b899f16482ddf7675847c0e65d4369918cd551c"
   }
  }
 },
 "nbformat": 4,
 "nbformat_minor": 2
}
