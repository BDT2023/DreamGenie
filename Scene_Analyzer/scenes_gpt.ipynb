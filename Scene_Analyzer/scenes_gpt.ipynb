{
 "cells": [
  {
   "cell_type": "code",
   "execution_count": 1,
   "metadata": {
    "pycharm": {
     "name": "#%%\n"
    }
   },
   "outputs": [],
   "source": [
    "import openai\n",
    "from my_secrets import API_KEY\n",
    "import os\n",
    "import random as rand\n",
    "import pandas as pd\n",
    "openai.api_key = API_KEY"
   ]
  },
  {
   "cell_type": "code",
   "execution_count": 2,
   "metadata": {},
   "outputs": [],
   "source": [
    "dream_list = pd.read_csv('sample_texts_normalized.csv', header=None)"
   ]
  },
  {
   "cell_type": "code",
   "execution_count": 10,
   "metadata": {},
   "outputs": [
    {
     "name": "stdout",
     "output_type": "stream",
     "text": [
      "This is the second time in weeks that I dream of war. Not the \"typical\" war ...\n",
      "I am again in my mom's house -city- and there is all this preparation going on  and i suddenly find out that a war is about to break out. THere are foreign soldiers and lots of guns around. We don't know the language but sounds like Arabic and my kids are trying to send a text message to my husband to ask for help without being caught ... \n",
      "aaagghhh.... don't like wars!! not even in my dreams.\n"
     ]
    }
   ],
   "source": [
    "rand.seed(os.urandom(32))\n",
    "text = dream_list[0][rand.randint(0, len(dream_list)-1)]\n",
    "print(text)"
   ]
  },
  {
   "cell_type": "code",
   "execution_count": 21,
   "metadata": {},
   "outputs": [],
   "source": [
    "command = \"Give short visual descriptions of the scenes containing the main character, setting, and mood in the following:\"\n",
    "command = \"Separate this story into short visual only scenes.Story:\"\n",
    "#command = \"Extract the main character, setting, and mood from the following and generate a description of an image based on that information:\"\n",
    "prompt = (f\"\"\"{command} {text}\n",
    "Scene 1:\n",
    "\"\"\")\n",
    "#use chatgpt-3.5-turbo\n",
    "completions = openai.ChatCompletion.create(\n",
    "  model=\"gpt-3.5-turbo\",\n",
    "  messages=[\n",
    "        {\"role\": \"user\", \"content\": f\"{prompt}\"}\n",
    "    ]\n",
    ")\n"
   ]
  },
  {
   "cell_type": "code",
   "execution_count": 22,
   "metadata": {},
   "outputs": [
    {
     "name": "stdout",
     "output_type": "stream",
     "text": [
      "A shot of the protagonist sleeping in bed.\n",
      "\n",
      "Scene 2:\n",
      "A shot of a clock ticking away the minutes.\n",
      "\n",
      "Scene 3:\n",
      "The protagonist opens their eyes suddenly, alarmed.\n",
      "\n",
      "Scene 4:\n",
      "A shot of the interior of a house, bustling with activity.\n",
      "\n",
      "Scene 5:\n",
      "A shot of foreign soldiers walking down the street.\n",
      "\n",
      "Scene 6:\n",
      "A shot of guns being loaded, and people in military uniforms.\n",
      "\n",
      "Scene 7:\n",
      "The protagonist realizing a war is starting, looking around anxiously.\n",
      "\n",
      "Scene 8:\n",
      "A shot of the protagonist's children huddled together, looking worried.\n",
      "\n",
      "Scene 9:\n",
      "A closeup of a phone or a mobile device.\n",
      "\n",
      "Scene 10:\n",
      "A shot of one of the protagonist's children typing on the phone.\n",
      "\n",
      "Scene 11:\n",
      "A shot of foreign soldiers patrolling the area.\n",
      "\n",
      "Scene 12:\n",
      "A shot of the message being sent from the phone.\n",
      "\n",
      "Scene 13:\n",
      "The protagonist, looking around worriedly.\n",
      "\n",
      "Scene 14:\n",
      "A shot of the protagonist, sitting on a bed, tense and unable to relax.\n",
      "\n",
      "Scene 15:\n",
      "A shot of the protagonist tossing and turning in bed, with no rest.\n"
     ]
    }
   ],
   "source": [
    "print(completions['choices'][0]['message']['content'])"
   ]
  },
  {
   "cell_type": "code",
   "execution_count": 7,
   "metadata": {
    "pycharm": {
     "name": "#%%\n"
    }
   },
   "outputs": [
    {
     "name": "stdout",
     "output_type": "stream",
     "text": [
      "\n",
      "The image shows a person running through a dark, spooky forest, with a multitude of slithering snakes chasing them. The person is sweating and looks terrified, their eyes wide with fear. The mood of the image is one of intense dread and panic.\n"
     ]
    }
   ],
   "source": [
    "openai.api_key = API_KEY\n",
    "#model_engine = \"text-curie-001\"\n",
    "model_engine = \"text-davinci-003\"\n",
    "'''\n",
    "https://beta.openai.com/docs/api-reference/completions/create\n",
    "'''\n",
    "#command = \"Give short visual descriptions of the scenes in the following:\"\n",
    "command = \"Extract the main character, setting, and mood from the following and generate a description of an image based on that information:\"\n",
    "prompt = (f\"\"\"{command} {text}\n",
    "Scene 1:\n",
    "\"\"\")\n",
    "completions = openai.Completion.create(\n",
    "    engine=model_engine,\n",
    "    prompt=prompt,\n",
    "    max_tokens=512,\n",
    "    n=1,\n",
    "    stop=None,\n",
    "    temperature=0.45,\n",
    ")\n",
    "\n",
    "# Print the generated text\n",
    "generated_text = completions.choices[0].text\n",
    "print(generated_text)\n",
    "with open(\"out.txt\", \"a+\") as f:\n",
    "    f.write(f'Prompt: {prompt}')\n",
    "    f.write(f'Output: {generated_text}')\n",
    "    f.write(os.linesep)\n",
    "    f.write(f'########################')\n",
    "    f.write(os.linesep)\n"
   ]
  },
  {
   "cell_type": "code",
   "execution_count": 5,
   "metadata": {
    "pycharm": {
     "name": "#%%\n"
    }
   },
   "outputs": [],
   "source": [
    "# initial_text = f\"\"\"\n",
    "# this is called a “prompt for stable diffusion\" of a portrait of Christina Hendricks with cosmic energy in the background in the art style of artists called \"artgerm\", \"greg rutkowski\" and \"alphonse mucha\":\n",
    "# \"Ultra realistic photo portrait of Christina Hendricks cosmic energy, colorful, painting burst, beautiful face, symmetrical face, tone mapped, intricate, elegant, highly detailed, digital painting, artstation, concept art, smooth, sharp focus, illustration, beautiful face, intricate, highly detailed, smooth, sharp focus, art by artgerm and greg rutkowski and alphonse mucha\"\n",
    "#  \n",
    "# The most important keywords are at the beginning and then every additional keywords are separated by a comma. If you add an art style by an artist or multiple artists, this information should always be at the end.\n",
    "#  When i provide you with input, write me a new \"prompt for stable diffusion\" of the input,By using a similar syntax, but add more details, and condense Condense the description to focus on nouns and adjectives separated by ,\n",
    "# Input: {generated_text}\n",
    "# \"\"\""
   ]
  },
  {
   "cell_type": "code",
   "execution_count": 6,
   "metadata": {
    "pycharm": {
     "name": "#%%\n"
    }
   },
   "outputs": [
    {
     "name": "stdout",
     "output_type": "stream",
     "text": [
      "\n",
      "Prompt for Stable Diffusion: Mysterious man in a canoe, tranquil river, large anaconda, lone young man, secluded spot, words of encouragement, strength and magic, surreal landscape, adventurous journey.\n"
     ]
    }
   ],
   "source": [
    "# completions = openai.Completion.create(\n",
    "#     engine=model_engine,\n",
    "#     prompt=initial_text,\n",
    "#     max_tokens=512,\n",
    "#     n=1,\n",
    "#     stop=None,\n",
    "#     temperature=0.65,\n",
    "# )\n",
    "\n",
    "# # Print the generated text\n",
    "# output = completions.choices[0].text\n",
    "# print(output)"
   ]
  }
 ],
 "metadata": {
  "kernelspec": {
   "display_name": "base",
   "language": "python",
   "name": "python3"
  },
  "language_info": {
   "codemirror_mode": {
    "name": "ipython",
    "version": 3
   },
   "file_extension": ".py",
   "mimetype": "text/x-python",
   "name": "python",
   "nbconvert_exporter": "python",
   "pygments_lexer": "ipython3",
   "version": "3.9.12"
  },
  "orig_nbformat": 4,
  "vscode": {
   "interpreter": {
    "hash": "37f3578b87c31b783d1ad88d8b899f16482ddf7675847c0e65d4369918cd551c"
   }
  }
 },
 "nbformat": 4,
 "nbformat_minor": 2
}
