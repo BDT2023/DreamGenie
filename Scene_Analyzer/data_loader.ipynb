{
 "cells": [
  {
   "cell_type": "code",
   "execution_count": null,
   "metadata": {},
   "outputs": [],
   "source": [
    "import numpy as np\n",
    "import pandas as pd"
   ]
  },
  {
   "attachments": {},
   "cell_type": "markdown",
   "metadata": {},
   "source": [
    "Load the docx given to us by Prof. Shler, export the tables in there to csv"
   ]
  },
  {
   "cell_type": "code",
   "execution_count": null,
   "metadata": {},
   "outputs": [],
   "source": [
    "from docx import Document\n",
    "doc = Document('sample_texts.docx')\n",
    "text = [cell.text for row in doc.tables[0].rows for cell in row.cells]\n",
    "# Save after loading the cells to csv\n",
    "pd.DataFrame(text).to_csv('sample_texts.csv',index=False,header=False)"
   ]
  },
  {
   "attachments": {},
   "cell_type": "markdown",
   "metadata": {},
   "source": [
    "Remove all the stories that are too long or too short (leaving only ~ 20-200 word long stories)"
   ]
  },
  {
   "cell_type": "code",
   "execution_count": null,
   "metadata": {},
   "outputs": [
    {
     "name": "stdout",
     "output_type": "stream",
     "text": [
      "Number before: 42 Number after: 28\n",
      "67.7987012987013\n"
     ]
    }
   ],
   "source": [
    "#On average, text contains between 5 and 6.5 characters per word including spaces and punctuation.\n",
    "normalized_len_list = [x for x in text if len(x) < 1000 and len(x) > 100]\n",
    "print(f'Number before: {len(text)} Number after: {len(normalized_len_list)}')\n",
    "len_avg = np.mean([len(x) for x in normalized_len_list])\n",
    "print(len_avg/5.5)"
   ]
  },
  {
   "cell_type": "code",
   "execution_count": null,
   "metadata": {},
   "outputs": [],
   "source": [
    "pd.DataFrame(normalized_len_list).to_csv('sample_texts_normalized.csv',index=False,header=False)"
   ]
  }
 ],
 "metadata": {
  "kernelspec": {
   "display_name": "base",
   "language": "python",
   "name": "python3"
  },
  "language_info": {
   "name": "python",
   "version": "3.9.12 (main, Apr  4 2022, 05:22:27) [MSC v.1916 64 bit (AMD64)]"
  },
  "orig_nbformat": 4,
  "vscode": {
   "interpreter": {
    "hash": "37f3578b87c31b783d1ad88d8b899f16482ddf7675847c0e65d4369918cd551c"
   }
  }
 },
 "nbformat": 4,
 "nbformat_minor": 2
}
