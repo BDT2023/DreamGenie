{
 "cells": [
  {
   "cell_type": "code",
   "execution_count": 1,
   "metadata": {},
   "outputs": [],
   "source": [
    "import openai\n",
    "API_KEY = '***REMOVED***'"
   ]
  },
  {
   "cell_type": "code",
   "execution_count": 2,
   "metadata": {},
   "outputs": [],
   "source": [
    "text = \"\"\"\n",
    "I am in a small shack in the woods, terrified.\n",
    "A nearby machine gun roars without let up.\n",
    "Raising from the wooden floor, I go to the screen windows to see what is happening outside.\n",
    "My vision becomes blurred and I cannot see.\n",
    "I wake up anxious and frightened. \n",
    "\"\"\""
   ]
  },
  {
   "attachments": {},
   "cell_type": "markdown",
   "metadata": {},
   "source": [
    "Baseline: <br> Scene 1: A person is in a small shack in the woods, he is scared\n",
    "Scene 2: A machine gun near the woods is firing.\n",
    "Scene 3: A man is standing up from the wooden floor.\n",
    "Scene 4: A man is looking from the screen windows outside."
   ]
  },
  {
   "cell_type": "markdown",
   "metadata": {},
   "source": []
  },
  {
   "cell_type": "code",
   "execution_count": 3,
   "metadata": {},
   "outputs": [
    {
     "name": "stdout",
     "output_type": "stream",
     "text": [
      "\n",
      "Scene 1: A person is curled up on a wooden floor in a small shack in the woods, their face filled with fear as the machine gun fire roars outside. \n",
      "Scene 2: The person from the previous scene slowly rises from the floor and moves to the screen windows to see what is happening outside. \n",
      "Scene 3: The person looks out the window, but their vision is blurred and they can't make out the situation. \n",
      "Scene 4: The person wakes up in a panic, their heart racing with fear.\n"
     ]
    }
   ],
   "source": [
    "openai.api_key = API_KEY\n",
    "#model_engine = \"text-curie-001\"\n",
    "model_engine = \"text-davinci-003\"\n",
    "'''\n",
    "https://beta.openai.com/docs/api-reference/completions/create\n",
    "'''\n",
    "prompt = (f\"Give short visual descriptions of the scenes in the following: {text}\")\n",
    "completions = openai.Completion.create(\n",
    "    engine=model_engine,\n",
    "    prompt=prompt,\n",
    "    max_tokens=512,\n",
    "    n=1,\n",
    "    stop=None,\n",
    "    temperature=0.65,\n",
    ")\n",
    "\n",
    "# Print the generated text\n",
    "generated_text = completions.choices[0].text\n",
    "print(generated_text)"
   ]
  },
  {
   "cell_type": "code",
   "execution_count": 5,
   "metadata": {},
   "outputs": [],
   "source": [
    "initial_text = f\"\"\"\n",
    "this is called a “prompt for stable diffusion\" of a portrait of Christina Hendricks with cosmic energy in the background in the art style of artists called \"artgerm\", \"greg rutkowski\" and \"alphonse mucha\":\n",
    "\"Ultra realistic photo portrait of Christina Hendricks cosmic energy, colorful, painting burst, beautiful face, symmetrical face, tone mapped, intricate, elegant, highly detailed, digital painting, artstation, concept art, smooth, sharp focus, illustration, beautiful face, intricate, highly detailed, smooth, sharp focus, art by artgerm and greg rutkowski and alphonse mucha\"\n",
    " \n",
    "The most important keywords are at the beginning and then every additional keywords are separated by a comma. If you add an art style by an artist or multiple artists, this information should always be at the end.\n",
    " When i provide you with input, write me a new \"prompt for stable diffusion\" of the input,By using a similar syntax, but add more details, and condense Condense the description to focus on nouns and adjectives separated by ,\n",
    "Input: {generated_text}\n",
    "\"\"\""
   ]
  },
  {
   "cell_type": "code",
   "execution_count": 6,
   "metadata": {},
   "outputs": [
    {
     "name": "stdout",
     "output_type": "stream",
     "text": [
      "\n",
      "Prompt for Stable Diffusion: Mysterious man in a canoe, tranquil river, large anaconda, lone young man, secluded spot, words of encouragement, strength and magic, surreal landscape, adventurous journey.\n"
     ]
    }
   ],
   "source": [
    "completions = openai.Completion.create(\n",
    "    engine=model_engine,\n",
    "    prompt=initial_text,\n",
    "    max_tokens=512,\n",
    "    n=1,\n",
    "    stop=None,\n",
    "    temperature=0.65,\n",
    ")\n",
    "\n",
    "# Print the generated text\n",
    "output = completions.choices[0].text\n",
    "print(output)"
   ]
  }
 ],
 "metadata": {
  "kernelspec": {
   "display_name": "base",
   "language": "python",
   "name": "python3"
  },
  "language_info": {
   "codemirror_mode": {
    "name": "ipython",
    "version": 3
   },
   "file_extension": ".py",
   "mimetype": "text/x-python",
   "name": "python",
   "nbconvert_exporter": "python",
   "pygments_lexer": "ipython3",
   "version": "3.9.12 (main, Apr  4 2022, 05:22:27) [MSC v.1916 64 bit (AMD64)]"
  },
  "orig_nbformat": 4,
  "vscode": {
   "interpreter": {
    "hash": "37f3578b87c31b783d1ad88d8b899f16482ddf7675847c0e65d4369918cd551c"
   }
  }
 },
 "nbformat": 4,
 "nbformat_minor": 2
}
