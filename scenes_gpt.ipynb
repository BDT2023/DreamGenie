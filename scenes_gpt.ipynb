{
 "cells": [
  {
   "cell_type": "code",
   "execution_count": 2,
   "metadata": {},
   "outputs": [],
   "source": [
    "import openai\n",
    "API_KEY = '***REMOVED***'"
   ]
  },
  {
   "cell_type": "code",
   "execution_count": 3,
   "metadata": {},
   "outputs": [],
   "source": [
    "text = \"\"\"\n",
    "Saw an anaconda from his canoe and urged a young man in seclusion to get it for strength magic.\n",
    "\"\"\""
   ]
  },
  {
   "cell_type": "code",
   "execution_count": 4,
   "metadata": {},
   "outputs": [
    {
     "name": "stdout",
     "output_type": "stream",
     "text": [
      "\n",
      "Scene 1: A man in a canoe peers over the edge, spotting a large anaconda swimming in the water.\n",
      "\n",
      "Scene 2: The same man, now standing on the shore, turns to a young man who is standing alone in a spot of seclusion. He motions to the anaconda and speaks words of encouragement, urging the young man to go after it and use the strength magic it will give him.\n"
     ]
    }
   ],
   "source": [
    "openai.api_key = API_KEY\n",
    "#model_engine = \"text-curie-001\"\n",
    "model_engine = \"text-davinci-003\"\n",
    "'''\n",
    "https://beta.openai.com/docs/api-reference/completions/create\n",
    "'''\n",
    "prompt = (f\"Give short visual descriptions of the scenes in the following: {text}\")\n",
    "completions = openai.Completion.create(\n",
    "    engine=model_engine,\n",
    "    prompt=prompt,\n",
    "    max_tokens=512,\n",
    "    n=1,\n",
    "    stop=None,\n",
    "    temperature=0.65,\n",
    ")\n",
    "\n",
    "# Print the generated text\n",
    "generated_text = completions.choices[0].text\n",
    "print(generated_text)"
   ]
  },
  {
   "cell_type": "code",
   "execution_count": 5,
   "metadata": {},
   "outputs": [],
   "source": [
    "initial_text = f\"\"\"\n",
    "this is called a “prompt for stable diffusion\" of a portrait of Christina Hendricks with cosmic energy in the background in the art style of artists called \"artgerm\", \"greg rutkowski\" and \"alphonse mucha\":\n",
    "\"Ultra realistic photo portrait of Christina Hendricks cosmic energy, colorful, painting burst, beautiful face, symmetrical face, tone mapped, intricate, elegant, highly detailed, digital painting, artstation, concept art, smooth, sharp focus, illustration, beautiful face, intricate, highly detailed, smooth, sharp focus, art by artgerm and greg rutkowski and alphonse mucha\"\n",
    " \n",
    "The most important keywords are at the beginning and then every additional keywords are separated by a comma. If you add an art style by an artist or multiple artists, this information should always be at the end.\n",
    " When i provide you with input, write me a new \"prompt for stable diffusion\" of the input,By using a similar syntax, but add more details, and condense Condense the description to focus on nouns and adjectives separated by ,\n",
    "Input: {generated_text}\n",
    "\"\"\""
   ]
  },
  {
   "cell_type": "code",
   "execution_count": 6,
   "metadata": {},
   "outputs": [
    {
     "name": "stdout",
     "output_type": "stream",
     "text": [
      "\n",
      "Prompt for Stable Diffusion: Mysterious man in a canoe, tranquil river, large anaconda, lone young man, secluded spot, words of encouragement, strength and magic, surreal landscape, adventurous journey.\n"
     ]
    }
   ],
   "source": [
    "completions = openai.Completion.create(\n",
    "    engine=model_engine,\n",
    "    prompt=initial_text,\n",
    "    max_tokens=512,\n",
    "    n=1,\n",
    "    stop=None,\n",
    "    temperature=0.65,\n",
    ")\n",
    "\n",
    "# Print the generated text\n",
    "output = completions.choices[0].text\n",
    "print(output)"
   ]
  }
 ],
 "metadata": {
  "kernelspec": {
   "display_name": "base",
   "language": "python",
   "name": "python3"
  },
  "language_info": {
   "codemirror_mode": {
    "name": "ipython",
    "version": 3
   },
   "file_extension": ".py",
   "mimetype": "text/x-python",
   "name": "python",
   "nbconvert_exporter": "python",
   "pygments_lexer": "ipython3",
   "version": "3.9.12 (main, Apr  4 2022, 05:22:27) [MSC v.1916 64 bit (AMD64)]"
  },
  "orig_nbformat": 4,
  "vscode": {
   "interpreter": {
    "hash": "37f3578b87c31b783d1ad88d8b899f16482ddf7675847c0e65d4369918cd551c"
   }
  }
 },
 "nbformat": 4,
 "nbformat_minor": 2
}
