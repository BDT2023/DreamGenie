{
 "cells": [
  {
   "cell_type": "code",
   "execution_count": null,
   "metadata": {
    "collapsed": true,
    "pycharm": {
     "name": "#%%\n"
    }
   },
   "outputs": [],
   "source": [
    "# here are some \"magic words\"\n",
    "# that will make our promt better\n",
    "magic_words = [\"HDR\", \"UHD\", \"4K\", \"8K\", \"64K\", \"highly detailed\",\n",
    "               \"studio lighting\", \"Professional\", \"trending on artstation\",\n",
    "               \"unreal engine\", \"vivid colors\", \"bokeh\", \"cinematic\",\n",
    "               \"High resolution scan\"]"
   ]
  },
  {
   "cell_type": "code",
   "execution_count": null,
   "metadata": {
    "collapsed": false,
    "pycharm": {
     "name": "#%%\n"
    }
   },
   "outputs": [],
   "source": [
    "# some parameters\n",
    "default_img_size = \"512x512\"\n",
    "default_img_format = \"png\"\n",
    "# good balance\n",
    "default_cfg = 7\n",
    "default_step_count = 50\n",
    "default_seed = \"random\"\n",
    "# recommended to beginners since it's fast and can usually generate\n",
    "# good images with only 10 steps\n",
    "default_sampler = \"DDIM\""
   ]
  },
  {
   "cell_type": "code",
   "execution_count": null,
   "metadata": {
    "collapsed": false,
    "pycharm": {
     "name": "#%%\n"
    }
   },
   "outputs": [],
   "source": [
    "negative_prompt = \"lowres, text, error, cropped, worst quality, low quality,\" \\\n",
    "                  \" jpeg artifacts, ugly, duplicate, morbid, mutilated, out of\" \\\n",
    "                  \" frame, extra fingers, mutated hands, poorly drawn hands,\" \\\n",
    "                  \" poorly drawn face, mutation, deformed, blurry, dehydrated, bad anatomy,\" \\\n",
    "                  \" bad proportions, extra limbs, cloned face, disfigured, gross proportions,\" \\\n",
    "                  \" malformed limbs, missing arms, missing legs, extra arms, extra legs,\" \\\n",
    "                  \" fused fingers, too many fingers, long neck, username, watermark, signature\"\n"
   ]
  },
  {
   "cell_type": "code",
   "execution_count": null,
   "metadata": {
    "collapsed": false,
    "pycharm": {
     "name": "#%%\n"
    }
   },
   "outputs": [],
   "source": [
    "def input_validation(user_input, valid_input_list):\n",
    "    while True:\n",
    "        if user_input in valid_input_list:\n",
    "            return user_input\n",
    "        else:\n",
    "            print(\"I'm sorry, I didn't understand that. Please answer:\\n\" + ' or\\n'.join(valid_input_list) + '!')\n",
    "            user_input = input()\n",
    "            continue"
   ]
  },
  {
   "cell_type": "code",
   "execution_count": null,
   "metadata": {
    "collapsed": false,
    "pycharm": {
     "name": "#%%\n"
    }
   },
   "outputs": [],
   "source": [
    "def yes_no_validation(user_input):\n",
    "    while True:\n",
    "        if user_input == \"yes\":\n",
    "            return True\n",
    "        elif user_input == \"no\":\n",
    "            return False\n",
    "        else:\n",
    "            print(\"I'm sorry, I didn't understand that. Please answer \\\"yes\\\" or \\\"no\\\"!\")\n",
    "            user_input = input()\n",
    "            continue"
   ]
  },
  {
   "cell_type": "code",
   "execution_count": null,
   "metadata": {
    "collapsed": false,
    "pycharm": {
     "name": "#%%\n"
    }
   },
   "outputs": [],
   "source": [
    "def edit_component(component, list_of_options, user_input):\n",
    "    print(f\"Would you like to edit the {component} of the image?\\n\"\n",
    "          \"Please answer \\\"yes\\\" or \\\"no\\\" \\n(answer \\\"no\\\" \"\n",
    "          f\"if you already satisfied with the {component} or already mentioned it in the prompt)\")\n",
    "    fourth_input = input()\n",
    "    answer = yes_no_validation(fourth_input)\n",
    "    if answer:\n",
    "        print(f\"Let's choose a {component}!\")\n",
    "        print(\"Please choose one of the following:\")\n",
    "        print('\\n'.join(list_of_options))\n",
    "        fifth_input = input()\n",
    "        fifth_input = input_validation \\\n",
    "            (fifth_input, list_of_options)\n",
    "        user_input = user_input + \", \" + fifth_input + \" \" + component\n",
    "        return answer, user_input\n",
    "    else:\n",
    "        print(\"Okay, let's continue!\")\n",
    "        return answer, user_input"
   ]
  },
  {
   "cell_type": "code",
   "execution_count": null,
   "metadata": {
    "collapsed": false,
    "pycharm": {
     "name": "#%%\n"
    }
   },
   "outputs": [],
   "source": [
    "def generate_image(user_input, mode=\"txt2img\", flag=False):\n",
    "    print(\"Okay, creating your image now! please wait a few seconds...\")\n",
    "    print(\"The prompt is: \" + user_input)\n",
    "    #################################################\n",
    "    # ~~~~~~~~~~~~~~~~~~~~~~~~~~~~~~~~~~~~~~~~~~~~~ #\n",
    "    # making api call to the server, and showing the image after we get the response\n",
    "    # ~~~~~~~~~~~~~~~~~~~~~~~~~~~~~~~~~~~~~~~~~~~~~ #\n",
    "    #################################################\n",
    "    print(\"Here's your image! I hope you like it!\")\n",
    "    print(\"[IMAGE]\")\n",
    "    if flag:\n",
    "        print(\"We can make it better if you want to!\")\n",
    "    continue_or_exit()"
   ]
  },
  {
   "cell_type": "code",
   "execution_count": null,
   "metadata": {
    "collapsed": false,
    "pycharm": {
     "name": "#%%\n"
    }
   },
   "outputs": [],
   "source": [
    "def generate_or_edit(user_input, mode=\"txt2img\"):\n",
    "    print(\"Would you like to generate the image now or continue editing it?\"\n",
    "          \" Please answer \\\"generate\\\" or \\\"continue\\\"\")\n",
    "    sixth_input = input()\n",
    "    sixth_input = input_validation(sixth_input, [\"generate\", \"continue\"])\n",
    "    if sixth_input == \"generate\":\n",
    "        print(\"Okay, generating your image now! please wait a few seconds...\")\n",
    "        generate_image(user_input, mode)\n",
    "    else:\n",
    "        print(\"Okay, let's continue editing!\")\n",
    "        return"
   ]
  },
  {
   "cell_type": "code",
   "execution_count": null,
   "metadata": {
    "collapsed": false,
    "pycharm": {
     "name": "#%%\n"
    }
   },
   "outputs": [],
   "source": [
    "def continue_or_exit():\n",
    "    print(\"Do you want to continue the process of editing the image?\\n\"\n",
    "          \"Please answer \\\"yes\\\" or \\\"no\\\"\")\n",
    "\n",
    "    third_input = input()\n",
    "    if yes_no_validation(third_input):\n",
    "        print(\"Great! Let's continue!\")\n",
    "    else:\n",
    "        print(\"Okay, I hope you liked the image! Bye!\")\n",
    "        # TODO: add a way to save the image\n",
    "        exit()"
   ]
  },
  {
   "cell_type": "code",
   "execution_count": null,
   "metadata": {
    "collapsed": false,
    "pycharm": {
     "name": "#%%\n"
    }
   },
   "outputs": [],
   "source": [
    "print(\"Hello there! I'm Lisa! so nice to meet you\"\n",
    "      \" here!\\nI'm a chatbot, so I can't really \"\n",
    "      \"talk to you, but I can help you with drawing\"\n",
    "      \" some nice images!\\nSo, what do you want to draw?\\n\"\n",
    "      \"please mention also if you want image or painting, for better results!\\n\")\n",
    "user_input = \"\""
   ]
  },
  {
   "cell_type": "code",
   "execution_count": null,
   "metadata": {
    "collapsed": false,
    "pycharm": {
     "name": "#%%\n"
    }
   },
   "outputs": [],
   "source": [
    "while True:\n",
    "    user_input = input()\n",
    "    print(\"Before we continue, is this your desired prompt: \\n\\\"\" + user_input + \"\\\"?\")\n",
    "    second_input = input()\n",
    "    if yes_no_validation(second_input):\n",
    "        print(\"Great! Let's continue!\")\n",
    "        break\n",
    "    else:\n",
    "        print(\"Oh, I'm sorry! Let's try again!\")\n",
    "        continue"
   ]
  },
  {
   "cell_type": "code",
   "execution_count": null,
   "metadata": {
    "collapsed": false,
    "pycharm": {
     "name": "#%%\n"
    }
   },
   "outputs": [],
   "source": [
    "generate_image(user_input, \"txt2img\", flag=True)"
   ]
  },
  {
   "cell_type": "code",
   "execution_count": null,
   "metadata": {
    "collapsed": false,
    "pycharm": {
     "name": "#%%\n"
    }
   },
   "outputs": [],
   "source": [
    "# we will try to enhance the prompt, and then show the image again - hopefully better\n",
    "# we used the prompt guide from the paper:\n",
    "# https://cdn.openart.ai/assets/Stable%20Diffusion%20Prompt%20Book%20From%20OpenArt%2011-13.pdf"
   ]
  },
  {
   "cell_type": "code",
   "execution_count": null,
   "metadata": {
    "collapsed": false,
    "pycharm": {
     "name": "#%%\n"
    }
   },
   "outputs": [],
   "source": [
    "lighting_list = [\"Daylight\", \"Overcast\", \"Night\", \"Flash\", \"Fluorescent\", \"Incandescent\", \"Soft\",\n",
    "                 \"Ambient\", \"Sunlight\", \"Shade\", \"Backlight\", \"Candlelight\", \"Cinematic\", \"Nostalgic\",\n",
    "                 \"Sun Rays\", \"Purple Haze\", \"Neon\"]\n",
    "\n",
    "answer, user_input = edit_component(\"lighting\", lighting_list, user_input)\n",
    "if answer: generate_or_edit(user_input, \"img2img\")"
   ]
  },
  {
   "cell_type": "code",
   "execution_count": null,
   "metadata": {
    "collapsed": false,
    "pycharm": {
     "name": "#%%\n"
    }
   },
   "outputs": [],
   "source": [
    "environment_list = [\"Indoor\", \"Outdoor\", \"Urban\", \"Rural\", \"Natural\", \"Artificial\", \"Cinematic\", \"Fantasy\",\n",
    "                    \"In Space\", \"In Water\", \"In Air\", \"In a Room\", \"In a Building\", \"In a Forest\", \"In a City\"]\n",
    "\n",
    "answer, user_input = edit_component(\"environment\", environment_list, user_input)\n",
    "if answer: generate_or_edit(user_input, \"img2img\")"
   ]
  },
  {
   "cell_type": "code",
   "execution_count": null,
   "metadata": {
    "collapsed": false,
    "pycharm": {
     "name": "#%%\n"
    }
   },
   "outputs": [],
   "source": [
    "color_scheme_list = [\"Monochrome\", \"Grayscale\", \"Color\", \"Vibrant\", \"Pastel\", \"dark\",\n",
    "                     \"light\", \"warm\", \"cool\", \"Complementary\", \"Analogous\", \"Triadic\", \"split-complementary\"]\n",
    "\n",
    "answer, user_input = edit_component(\"color scheme\", color_scheme_list, user_input)\n",
    "if answer: generate_or_edit(user_input, \"img2img\")"
   ]
  },
  {
   "cell_type": "code",
   "execution_count": null,
   "metadata": {
    "collapsed": false,
    "pycharm": {
     "name": "#%%\n"
    }
   },
   "outputs": [],
   "source": [
    "shot_type_list = [\"Close-up\", \"Mid-shot\", \"Long-shot\", \"Extreme close-up\", \"Extreme long-shot\", \"POV\"]\n",
    "answer, user_input = edit_component(\"shot type\", shot_type_list, user_input)\n",
    "if answer: generate_or_edit(user_input, \"img2img\")"
   ]
  },
  {
   "cell_type": "code",
   "execution_count": null,
   "metadata": {
    "collapsed": false,
    "pycharm": {
     "name": "#%%\n"
    }
   },
   "outputs": [],
   "source": [
    "style_list = [\"Realistic\", \"Abstract\", \"Cartoon\", \"Fantasy\", \"Photorealistic\", \"Surreal\", \"Polaroid\",\n",
    "              \"Sketch\", \"Line Art\", \"Watercolor\", \"Oil Painting\", \"Acrylic Painting\", \"Digital Painting\", \"Mixed Media\"\n",
    "    , \"Graffiti\", \"Manga\", \"Anime\", \"Comic\", \"Illustration\", \"3D\", \"3D Cartoon\", \"3D Realistic\",\n",
    "              \"chalk\", \"pencil sketch\", \"caricature\", \"pop art\", \"pixel art\", \"vector art\", \"collage\", \"mosaic\",\n",
    "              \"horror\"]\n",
    "answer, user_input = edit_component(\"style\", style_list, user_input)\n",
    "if answer: generate_or_edit(user_input, \"img2img\")"
   ]
  },
  {
   "cell_type": "code",
   "execution_count": null,
   "metadata": {
    "collapsed": false,
    "pycharm": {
     "name": "#%%\n"
    }
   },
   "outputs": [],
   "source": [
    "emotion_list = [\"Happy\", \"Sad\", \"Angry\", \"Fearful\", \"Surprised\", \"Disgusted\", \"Calm\", \"Bored\", \"Excited\",\n",
    "                 \"Romantic\", \"Sexy\", \"Gloomy\", \"Eerie\", \"Mysterious\", \"Elegant\", \"Glamorous\", \"Playful\",\n",
    "                 \"Childish\", \"Cute\", \"Funny\", \"Grim\", \"Gory\"]\n",
    "answer, user_input = edit_component(\"emotion\", emotion_list, user_input)\n",
    "if answer: generate_or_edit(user_input, \"img2img\")"
   ]
  }
 ],
 "metadata": {
  "kernelspec": {
   "display_name": "Python 3",
   "language": "python",
   "name": "python3"
  },
  "language_info": {
   "codemirror_mode": {
    "name": "ipython",
    "version": 2
   },
   "file_extension": ".py",
   "mimetype": "text/x-python",
   "name": "python",
   "nbconvert_exporter": "python",
   "pygments_lexer": "ipython2",
   "version": "3.8.6 (tags/v3.8.6:db45529, Sep 23 2020, 15:52:53) [MSC v.1927 64 bit (AMD64)]"
  },
  "vscode": {
   "interpreter": {
    "hash": "f5ff168696553f3e2cb115c273c46eeb315c32b0d0536992c4bad2740a7f9469"
   }
  }
 },
 "nbformat": 4,
 "nbformat_minor": 0
}
