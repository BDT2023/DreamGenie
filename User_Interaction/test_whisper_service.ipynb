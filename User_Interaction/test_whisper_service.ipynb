{
 "cells": [
  {
   "cell_type": "code",
   "execution_count": 1,
   "metadata": {},
   "outputs": [],
   "source": [
    "import sys\n",
    "import os\n",
    "import requests\n",
    "\n",
    "sys.path.append('../Image_Generation')\n",
    "# os.chdir(os.path.dirname(__file__))\n",
    "from send_prompt import get_service_urls"
   ]
  },
  {
   "cell_type": "code",
   "execution_count": 2,
   "metadata": {},
   "outputs": [],
   "source": [
    "URL = get_service_urls()['whisper']"
   ]
  },
  {
   "cell_type": "code",
   "execution_count": 3,
   "metadata": {},
   "outputs": [],
   "source": [
    "filename = 'voice_input.wav'\n",
    "url = URL+'/whisper'\n",
    "data = {'file': (filename, open(filename,'rb'), 'audio/wav')}\n",
    "response = requests.post(url, files=data)"
   ]
  },
  {
   "cell_type": "code",
   "execution_count": 5,
   "metadata": {},
   "outputs": [
    {
     "name": "stdout",
     "output_type": "stream",
     "text": [
      " My dreamless night started in a cold, stark landscape at twilight. I was just standing there. I like twilight. I was feeling rather calm by it. Around the corner comes a wolf. I just watched it doing its loping thing. It wasn't running, it wasn't walking, it was just doing its brisk lope. It was panting. I was standing there admiring it. Then it went around another corner and was gone. I did not follow it, but I feel like it actually led to something, though I can't remember the rest of the dream.\n"
     ]
    }
   ],
   "source": [
    "print(response.json()['results'][0]['transcript'])"
   ]
  }
 ],
 "metadata": {
  "kernelspec": {
   "display_name": "base",
   "language": "python",
   "name": "python3"
  },
  "language_info": {
   "codemirror_mode": {
    "name": "ipython",
    "version": 3
   },
   "file_extension": ".py",
   "mimetype": "text/x-python",
   "name": "python",
   "nbconvert_exporter": "python",
   "pygments_lexer": "ipython3",
   "version": "3.9.12"
  },
  "orig_nbformat": 4
 },
 "nbformat": 4,
 "nbformat_minor": 2
}
