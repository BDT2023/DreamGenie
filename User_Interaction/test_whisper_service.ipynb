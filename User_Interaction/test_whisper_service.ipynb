{
 "cells": [
  {
   "cell_type": "code",
   "execution_count": 1,
   "metadata": {
    "pycharm": {
     "name": "#%%\n"
    }
   },
   "outputs": [],
   "source": [
    "import sys\n",
    "import os\n",
    "import requests\n",
    "\n",
    "sys.path.append('../Image_Generation')\n",
    "# os.chdir(os.path.dirname(__file__))\n",
    "from send_prompt import get_service_urls"
   ]
  },
  {
   "cell_type": "code",
   "execution_count": 2,
   "metadata": {
    "pycharm": {
     "name": "#%%\n"
    }
   },
   "outputs": [
    {
     "name": "stderr",
     "output_type": "stream",
     "text": [
      "ic| response: {'next_page_uri': None,\n",
      "               'tunnels': [{'endpoint': {'id': 'ep_2V4StTr1zAqtat37FYGCxOdJgv8',\n",
      "                                         'uri': 'https://api.ngrok.com/endpoints/ep_2V4StTr1zAqtat37FYGCxOdJgv8'},\n",
      "                            'forwards_to': 'http://localhost:5000',\n",
      "                            'id': 'tn_2V4StTr1zAqtat37FYGCxOdJgv8',\n",
      "                            'proto': 'https',\n",
      "                            'public_url': 'https://54d1-132-70-60-180.ngrok-free.app',\n",
      "                            'region': 'eu',\n",
      "                            'started_at': '2023-09-07T13:41:13Z',\n",
      "                            'tunnel_session': {'id': 'ts_2V4StVRRfzgYfO568vtX5BhUsrk',\n",
      "                                               'uri': 'https://api.ngrok.com/tunnel_sessions/ts_2V4StVRRfzgYfO568vtX5BhUsrk'}},\n",
      "                           {'endpoint': {'id': 'ep_2V4MAajqr4vcDq7nfVsVz8425Wn',\n",
      "                                         'uri': 'https://api.ngrok.com/endpoints/ep_2V4MAajqr4vcDq7nfVsVz8425Wn'},\n",
      "                            'forwards_to': '',\n",
      "                            'id': 'tn_2V4MAajqr4vcDq7nfVsVz8425Wn',\n",
      "                            'proto': 'https',\n",
      "                            'public_url': 'https://8944-132-70-60-180.ngrok-free.app',\n",
      "                            'region': 'us',\n",
      "                            'started_at': '2023-09-07T12:45:56Z',\n",
      "                            'tunnel_session': {'id': 'ts_2V4MAcpMGkRFGjcMHUxxti0rJTS',\n",
      "                                               'uri': 'https://api.ngrok.com/tunnel_sessions/ts_2V4MAcpMGkRFGjcMHUxxti0rJTS'}}],\n",
      "               'uri': 'https://api.ngrok.com/tunnels'}\n",
      "ic| tunnel_sessions: {'ts_2V4MAcpMGkRFGjcMHUxxti0rJTS': 'cr_2Ava69iIPmwypV1AyMlXHJ0MMvK',\n",
      "                      'ts_2V4StVRRfzgYfO568vtX5BhUsrk': 'cr_2NFNS09sQ2z2nMSTrIkn5ZsMz80'}\n",
      "ic| URLS: {'sd': 'https://8944-132-70-60-180.ngrok-free.app',\n",
      "           'whisper': 'https://54d1-132-70-60-180.ngrok-free.app'}\n"
     ]
    }
   ],
   "source": [
    "URL = get_service_urls()['whisper']"
   ]
  },
  {
   "cell_type": "code",
   "execution_count": 3,
   "metadata": {
    "collapsed": false,
    "pycharm": {
     "name": "#%%\n"
    }
   },
   "outputs": [
    {
     "name": "stdout",
     "output_type": "stream",
     "text": [
      "https://54d1-132-70-60-180.ngrok-free.app\n"
     ]
    }
   ],
   "source": [
    "print(URL)"
   ]
  },
  {
   "cell_type": "code",
   "execution_count": 4,
   "metadata": {},
   "outputs": [],
   "source": [
    "#URL = 'http://localhost:5000'"
   ]
  },
  {
   "cell_type": "code",
   "execution_count": 23,
   "metadata": {
    "pycharm": {
     "name": "#%%\n"
    }
   },
   "outputs": [],
   "source": [
    "filename = 'voice_input.wav'\n",
    "url = URL+'/whisper'\n",
    "data = {'file': (filename, open(filename,'rb'), 'audio/wav')}\n",
    "response = requests.post(url, files=data,auth=('bdt','12xmnxqgkpzj9cjb'))"
   ]
  },
  {
   "cell_type": "markdown",
   "metadata": {},
   "source": [
    "With large v2 we use use 10s for a 45s recording and \n",
    "With medium we use 11.7s for a 45s recording"
   ]
  },
  {
   "cell_type": "code",
   "execution_count": 19,
   "metadata": {
    "pycharm": {
     "name": "#%%\n"
    }
   },
   "outputs": [
    {
     "name": "stdout",
     "output_type": "stream",
     "text": [
      " this is a recording that should last around 40 seconds and this time I shall  just speak without stopping without any sense or without any purpose or reason  the target of this recording is to check whether Whispers transcription  service allows us to transcribe messages of length up to 40 seconds  without any issues. The best time we got last time was around 16 seconds and  later 6 seconds. We need to check if this has any implications\n"
     ]
    }
   ],
   "source": [
    "print(response.json()['results'][0]['transcript'])"
   ]
  }
 ],
 "metadata": {
  "kernelspec": {
   "display_name": "base",
   "language": "python",
   "name": "python3"
  },
  "language_info": {
   "codemirror_mode": {
    "name": "ipython",
    "version": 3
   },
   "file_extension": ".py",
   "mimetype": "text/x-python",
   "name": "python",
   "nbconvert_exporter": "python",
   "pygments_lexer": "ipython3",
   "version": "3.9.12"
  },
  "orig_nbformat": 4
 },
 "nbformat": 4,
 "nbformat_minor": 2
}
