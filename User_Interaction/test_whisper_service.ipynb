{
 "cells": [
  {
   "cell_type": "code",
   "execution_count": 1,
   "metadata": {
    "pycharm": {
     "name": "#%%\n"
    }
   },
   "outputs": [],
   "source": [
    "import sys\n",
    "import os\n",
    "import requests\n",
    "\n",
    "sys.path.append('../Image_Generation')\n",
    "# os.chdir(os.path.dirname(__file__))\n",
    "from send_prompt import get_service_urls"
   ]
  },
  {
   "cell_type": "code",
   "execution_count": 2,
   "metadata": {
    "pycharm": {
     "name": "#%%\n"
    }
   },
   "outputs": [
    {
     "name": "stderr",
     "output_type": "stream",
     "text": [
      "ic| response: {'next_page_uri': None,\n",
      "               'tunnels': [{'endpoint': {'id': 'ep_2NZ3tdVdnH0aIrGNWh1tWxa9fXX',\n",
      "                                         'uri': 'https://api.ngrok.com/endpoints/ep_2NZ3tdVdnH0aIrGNWh1tWxa9fXX'},\n",
      "                            'forwards_to': '',\n",
      "                            'id': 'tn_2NZ3tdVdnH0aIrGNWh1tWxa9fXX',\n",
      "                            'proto': 'https',\n",
      "                            'public_url': 'https://e15b-132-70-60-180.ngrok.io',\n",
      "                            'region': 'us',\n",
      "                            'started_at': '2023-03-26T19:13:12Z',\n",
      "                            'tunnel_session': {'id': 'ts_2NZ3tWIHOOL0U1tbnXOqnfRkNNR',\n",
      "                                               'uri': 'https://api.ngrok.com/tunnel_sessions/ts_2NZ3tWIHOOL0U1tbnXOqnfRkNNR'}},\n",
      "                           {'endpoint': {'id': 'ep_2NQhAuGnH3DTKCiLZCnXXeDNHHi',\n",
      "                                         'uri': 'https://api.ngrok.com/endpoints/ep_2NQhAuGnH3DTKCiLZCnXXeDNHHi'},\n",
      "                            'forwards_to': 'http://localhost:5000',\n",
      "                            'id': 'tn_2NQhAuGnH3DTKCiLZCnXXeDNHHi',\n",
      "                            'proto': 'https',\n",
      "                            'public_url': 'https://0f26-132-70-60-180.eu.ngrok.io',\n",
      "                            'region': 'eu',\n",
      "                            'started_at': '2023-03-23T20:07:52Z',\n",
      "                            'tunnel_session': {'id': 'ts_2NQhAufx5Lg68MUdBRSvhWL5RLb',\n",
      "                                               'uri': 'https://api.ngrok.com/tunnel_sessions/ts_2NQhAufx5Lg68MUdBRSvhWL5RLb'}}],\n",
      "               'uri': 'https://api.ngrok.com/tunnels'}\n",
      "ic| tunnel_sessions: {'ts_2NQhAufx5Lg68MUdBRSvhWL5RLb': 'cr_2NFNS09sQ2z2nMSTrIkn5ZsMz80',\n",
      "                      'ts_2NZ3tWIHOOL0U1tbnXOqnfRkNNR': 'cr_2Ava69iIPmwypV1AyMlXHJ0MMvK'}\n",
      "ic| URLS: {'sd': 'https://e15b-132-70-60-180.ngrok.io',\n",
      "           'whisper': 'https://0f26-132-70-60-180.eu.ngrok.io'}\n"
     ]
    }
   ],
   "source": [
    "URL = get_service_urls()['whisper']"
   ]
  },
  {
   "cell_type": "code",
   "execution_count": 3,
   "metadata": {
    "collapsed": false,
    "pycharm": {
     "name": "#%%\n"
    }
   },
   "outputs": [
    {
     "name": "stdout",
     "output_type": "stream",
     "text": [
      "https://0f26-132-70-60-180.eu.ngrok.io\n"
     ]
    }
   ],
   "source": [
    "print(URL)"
   ]
  },
  {
   "cell_type": "code",
   "execution_count": 4,
   "metadata": {
    "pycharm": {
     "name": "#%%\n"
    }
   },
   "outputs": [],
   "source": [
    "filename = 'voice_input.wav'\n",
    "url = URL+'/whisper'\n",
    "data = {'file': (filename, open(filename,'rb'), 'audio/wav')}\n",
    "response = requests.post(url, files=data,auth=('bdt','12xmnxqgkpzj9cjb'))"
   ]
  },
  {
   "cell_type": "code",
   "execution_count": 5,
   "metadata": {
    "pycharm": {
     "name": "#%%\n"
    }
   },
   "outputs": [
    {
     "name": "stdout",
     "output_type": "stream",
     "text": [
      " The frog sings a serenade while watching a parade of elephants.\n"
     ]
    }
   ],
   "source": [
    "print(response.json()['results'][0]['transcript'])"
   ]
  }
 ],
 "metadata": {
  "kernelspec": {
   "display_name": "base",
   "language": "python",
   "name": "python3"
  },
  "language_info": {
   "codemirror_mode": {
    "name": "ipython",
    "version": 3
   },
   "file_extension": ".py",
   "mimetype": "text/x-python",
   "name": "python",
   "nbconvert_exporter": "python",
   "pygments_lexer": "ipython3",
   "version": "3.9.12"
  },
  "orig_nbformat": 4
 },
 "nbformat": 4,
 "nbformat_minor": 2
}
