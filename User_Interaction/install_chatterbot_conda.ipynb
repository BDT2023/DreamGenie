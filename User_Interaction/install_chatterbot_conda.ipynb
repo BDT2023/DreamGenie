{
 "cells": [
  {
   "attachments": {},
   "cell_type": "markdown",
   "metadata": {},
   "source": [
    "Actions taken to make it run:\n",
    "<ol>\n",
    "<li> conda create -n chat_bot python=3.7 </li>\n",
    "<li> conda activate chat_bot </li>\n",
    "<li> pip install spacy==2.1.9 </li>\n",
    "<li> python -m spacy download en </li>\n",
    "<li> pip install chatterbot </li>\n",
    "<li> pip install chatterbot_corpus --user</li>\n",
    "<li> conda install pyyaml </li>\n",
    "</ol>\n"
   ]
  },
  {
   "cell_type": "code",
   "execution_count": 1,
   "metadata": {},
   "outputs": [
    {
     "name": "stdout",
     "output_type": "stream",
     "text": [
      "List Trainer: [####################] 100%\n"
     ]
    }
   ],
   "source": [
    "from chatterbot import ChatBot\n",
    "from chatterbot.trainers import ListTrainer\n",
    "import spacy\n",
    "spacy.load('en_core_web_sm') \n",
    "import en_core_web_sm\n",
    "# Create a new chat bot named Charlie\n",
    "chatbot = ChatBot('Charlie')\n",
    "trainer = ListTrainer(chatbot)\n",
    "trainer.train([\n",
    "'Hi, can I help you?',\n",
    "'Sure, I would like to book a flight to Iceland.',\n",
    "'Your flight has been booked.'\n",
    "])\n",
    "\n",
    "response = chatbot.get_response('I would like to book a flight.')"
   ]
  },
  {
   "cell_type": "code",
   "execution_count": 1,
   "metadata": {},
   "outputs": [
    {
     "name": "stdout",
     "output_type": "stream",
     "text": [
      "Training ai.yml: [####################] 100%\n",
      "Training botprofile.yml: [####################] 100%\n",
      "Training computers.yml: [####################] 100%\n",
      "Training conversations.yml: [####################] 100%\n",
      "Training emotion.yml: [####################] 100%\n",
      "Training food.yml: [####################] 100%\n",
      "Training gossip.yml: [####################] 100%\n",
      "Training greetings.yml: [####################] 100%\n",
      "Training health.yml: [####################] 100%\n",
      "Training history.yml: [####################] 100%\n",
      "Training humor.yml: [####################] 100%\n",
      "Training literature.yml: [####################] 100%\n",
      "Training money.yml: [####################] 100%\n",
      "Training movies.yml: [####################] 100%\n",
      "Training politics.yml: [####################] 100%\n",
      "Training psychology.yml: [####################] 100%\n",
      "Training science.yml: [####################] 100%\n",
      "Training sports.yml: [####################] 100%\n",
      "Training trivia.yml: [####################] 100%\n"
     ]
    }
   ],
   "source": [
    "from chatterbot import ChatBot\n",
    "from chatterbot.trainers import ChatterBotCorpusTrainer\n",
    "\n",
    "'''\n",
    "This is an example showing how to create an export file from\n",
    "an existing chat bot that can then be used to train other bots.\n",
    "'''\n",
    "\n",
    "chatbot = ChatBot('Export Example Bot')\n",
    "trainer = ChatterBotCorpusTrainer(chatbot)\n",
    "# First, lets train our bot with some data\n",
    "trainer.train(\n",
    "    \"chatterbot.corpus.english\"\n",
    ")\n"
   ]
  },
  {
   "cell_type": "code",
   "execution_count": 10,
   "metadata": {},
   "outputs": [
    {
     "name": "stdout",
     "output_type": "stream",
     "text": [
      "Did you hear the one about the mountain goats in the andes? It was \"ba a a a a a d\".\n"
     ]
    }
   ],
   "source": [
    "response = chatbot.get_response('Tell me another joke.')\n",
    "print(response)"
   ]
  }
 ],
 "metadata": {
  "kernelspec": {
   "display_name": "chat_bot",
   "language": "python",
   "name": "python3"
  },
  "language_info": {
   "codemirror_mode": {
    "name": "ipython",
    "version": 3
   },
   "file_extension": ".py",
   "mimetype": "text/x-python",
   "name": "python",
   "nbconvert_exporter": "python",
   "pygments_lexer": "ipython3",
   "version": "3.7.15"
  },
  "orig_nbformat": 4,
  "vscode": {
   "interpreter": {
    "hash": "20f0a71066b8daa6a619b80fe3a792cdfcaf5acbd1ffc82d8954ac70035dd2c0"
   }
  }
 },
 "nbformat": 4,
 "nbformat_minor": 2
}
