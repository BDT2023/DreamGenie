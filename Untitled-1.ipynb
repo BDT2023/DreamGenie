{
 "cells": [
  {
   "cell_type": "code",
   "execution_count": null,
   "metadata": {},
   "outputs": [],
   "source": [
    "import pandas as pd\n",
    "import numpy as np\n",
    "from sklearn.metrics import mean_squared_error\n",
    "\n",
    "def RMSE(test_set,cf):\n",
    "    \"*** YOUR CODE HERE ***\"\n",
    "    rmse = mean_squared_error(np.array(test_set['Rating']),\n",
    "                              np.array([cf.pred.at[row] for row in zip(test_set['UserId'],test_set['ProductId'])]),\n",
    "                              squared = False).round(5)\n",
    "    rmse_bench = mean_squared_error(np.array(test_set['Rating']),np.array(\n",
    "        [cf.mean_matrix.at[row] for row in zip(test_set['UserId'],test_set['ProductId'])]),squared = False).round(5)\n",
    "    #np.sqrt(mean_squared_error(test_set['Rating'],cf.pred.loc[test_set['UserId'],test_set['ProductId']]))\n",
    "    print(f'RMSE for {cf.strategy} based is: {rmse}')\n",
    "    print(f'RMSE for benchmark is: {rmse_bench}')\n",
    "\n",
    "def precision_at_k(test_set,cf,k):\n",
    "    \"*** YOUR CODE HERE ***\"\n",
    "    relevant_items = test_set[test_set['Rating'] > 3]\n",
    "    precision_alt = np.mean(\n",
    "        [len(pd.Index(relevant_items['ProductId']).intersection(cf.recommend_items(user,k = k))) / k for user in\n",
    "         relevant_items['UserId'].unique()])\n",
    "    print(f'Precision at {k} is {precision_alt}')\n",
    "\n",
    "    bench = cf.user_item_matrix.mean(axis = 0).sort_values(ascending = False)[:k]\n",
    "    precision_bench = [len(pd.Index(relevant_items['ProductId']).intersection(bench.index)) / k for _ in\n",
    "                       relevant_items['UserId'].unique()]\n",
    "    print(f'Precision at {k} for benchmark is {np.mean(precision_bench)}')\n",
    "\n",
    "def recall_at_k(test_set,cf,k):\n",
    "    \"*** YOUR CODE HERE ***\"\n",
    "    relevant_items = test_set[test_set['Rating'] > 3]\n",
    "    recall = np.mean(\n",
    "        [len(pd.Index(relevant_items['ProductId']).intersection(cf.recommend_items(user,k = k))) / len(relevant_items)\n",
    "         for user in relevant_items['UserId'].unique()])\n",
    "    print(f'recall at {k} is {recall}')\n",
    "\n",
    "    bench = cf.user_item_matrix.mean(axis = 0).sort_values(ascending = False)[:k]\n",
    "    recall_bench = [len(pd.Index(relevant_items['ProductId']).intersection(bench.index)) / len(relevant_items) for _ in\n",
    "                       relevant_items['UserId'].unique()]\n",
    "    print(f'recall at {k} for benchmark is {np.mean(recall_bench)}')\n"
=======
   "metadata": {
    "pycharm": {
     "is_executing": true,
     "name": "#%%\n"
    }
   },
   "outputs": [],
   "source": [
    "import requests\n",
    "from PIL import Image\n",
    "from io import BytesIO\n",
    "import base64\n",
    "import whisper\n",
    "import pyaudio\n",
    "import wave\n",
    "import spacy\n",
    "import openai\n",
    "API_KEY = '***REMOVED***'\n"
   ]
  },
  {
   "cell_type": "code",
   "execution_count": null,
   "metadata": {},
   "outputs": [],
   "source": [
    "nlp = spacy.load(\"en_core_web_sm\")\n",
    "def find_important_noun(sentence):\n",
    "    doc = nlp(sentence)\n",
    "    \n",
    "    # Identify the noun with the most dependencies\n",
    "    max_deps = 0\n",
    "    important_noun = \"\"\n",
    "    for token in doc:\n",
    "        if token.pos_ == \"NOUN\" and token.dep_ != \"ROOT\":\n",
    "            deps = 0\n",
    "            for child in token.children:\n",
    "                deps += 1\n",
    "            if deps > max_deps:\n",
    "                max_deps = deps\n",
    "                important_noun = token.text\n",
    "    return important_noun\n"
   ]
  },
  {
   "cell_type": "code",
   "execution_count": null,
   "metadata": {
    "pycharm": {
     "name": "#%%\n"
    }
   },
   "outputs": [],
   "source": [
    "import spacy\n",
    "import pytextrank\n",
    "from icecream import ic\n",
    "\n",
    "# example text\n",
    "#text = \"\"\"a purple dragon walks with his brother in a rainy forest, happy and smiling.\"\"\"\n",
    "text = \" There was some kind of ritual or something. I'm with a group of people and we had to shelter in this wooden structure or house. There were animals inside and we had to do something every day and I can't remember exactly what it was, but then it was also connected to work somehow and led into the next dream. All I remember was that somebody came back and was asking for water and it was kind of a big deal to have water. Oh, and one of the people that kept coming in was familiar to me, but I can't remember them now. It was a person who turned into a bird and he was hopping around inside of the structure. It was a crow or something smaller, but black.\"\n",
    "print(find_important_noun(text))\n",
    "# load a spaCy model, depending on language, scale, etc.\n",
    "# # add PyTextRank to the spaCy pipeline\n",
    "# nlp.add_pipe(\"positionrank\")\n",
    "\n",
    "# doc = nlp(text)\n",
    "# examine the top-ranked phrases in the document\n",
    "# for phrase in doc._.phrases:\n",
    "#     print(phrase.text)\n",
    "#     print(phrase.rank, phrase.count)\n",
    "#     print(phrase.chunks)\n",
    "# nouns = [x.text for x in doc if x.pos_ == \"NOUN\"]\n",
    "# adjs = [x.text for x in doc if x.pos_ == \"ADJ\"]\n",
    "# rated = [(token.text,token.rank) for token in doc]\n",
    "# rated.sort(key=lambda x: x[1],reverse=True)\n",
    "# for phrase in doc._.phrases:\n",
    "#     if phrase.text in nouns:\n",
    "#         ic(phrase)\n",
    "# for token in doc:\n",
    "#     print(token.text, token.lemma_, token.pos_, token.tag_, token.dep_,\n",
    "#             token.shape_, token.is_alpha, token.is_stop,token.rank)"
   ]
  },
  {
   "cell_type": "code",
   "execution_count": null,
   "metadata": {
    "pycharm": {
     "name": "#%%\n"
    }
   },
   "outputs": [],
   "source": [
    "model = whisper.load_model(\"medium.en\")"
   ]
  },
  {
   "cell_type": "code",
   "execution_count": null,
   "metadata": {
    "pycharm": {
     "name": "#%%\n"
    }
   },
   "outputs": [],
   "source": [
    "nlp = spacy.load('en_core_web_trf')"
   ]
  },
  {
   "cell_type": "code",
   "execution_count": null,
   "metadata": {
    "pycharm": {
     "name": "#%%\n"
    }
   },
   "outputs": [],
   "source": [
    "#nlp = spacy.load(\"en_core_web_med\")\n",
    "text = (\"a purple dragon walks in a rainy forest, happy and smiling. \")\n",
    "text = \" There was some kind of ritual or something. I'm with a group of people and we had to shelter in this wooden structure or house. There were animals inside and we had to do something every day and I can't remember exactly what it was, but then it was also connected to work somehow and led into the next dream. All I remember was that somebody came back and was asking for water and it was kind of a big deal to have water. Oh, and one of the people that kept coming in was familiar to me, but I can't remember them now. It was a person who turned into a bird and he was hopping around inside of the structure. It was a crow or something smaller, but black.\"\n",
    "doc = nlp(text)\n",
    "for token in doc:\n",
    "    print(token.text, token.lemma_, token.pos_, token.tag_, token.dep_,\n",
    "            token.shape_, token.is_alpha, token.is_stop)"
   ]
  },
  {
   "cell_type": "code",
   "execution_count": null,
   "metadata": {
    "pycharm": {
     "name": "#%%\n"
    }
   },
   "outputs": [],
   "source": [
    "whisper.available_models()"
   ]
  },
  {
   "cell_type": "code",
   "execution_count": null,
   "metadata": {
    "pycharm": {
     "name": "#%%\n"
    }
   },
   "outputs": [],
   "source": [
    "def record_audio(record_length = 5,output_file = \"output.wav\"):\n",
    "    CHUNK = 1024\n",
    "    FORMAT = pyaudio.paInt16\n",
    "    CHANNELS = 2\n",
    "    RATE = 44100\n",
    "    RECORD_SECONDS = record_length\n",
    "\n",
    "    p = pyaudio.PyAudio()\n",
    "\n",
    "    stream = p.open(format=FORMAT,\n",
    "                    channels=CHANNELS,\n",
    "                    rate=RATE,\n",
    "                    input=True,\n",
    "                    frames_per_buffer=CHUNK)\n",
    "\n",
    "    print(\"* recording\")\n",
    "    frames = []\n",
    "\n",
    "    for i in range(0, int(RATE / CHUNK * RECORD_SECONDS)):\n",
    "        data = stream.read(CHUNK)\n",
    "        frames.append(data)\n",
    "\n",
    "    print(\"* done recording\")\n",
    "\n",
    "    stream.stop_stream()\n",
    "    stream.close()\n",
    "    p.terminate()\n",
    "\n",
    "    wf = wave.open(output_file, 'wb')\n",
    "    wf.setnchannels(CHANNELS)\n",
    "    wf.setsampwidth(p.get_sample_size(FORMAT))\n",
    "    wf.setframerate(RATE)\n",
    "    wf.writeframes(b''.join(frames))\n",
    "    wf.close()"
   ]
  },
  {
   "cell_type": "code",
   "execution_count": null,
   "metadata": {
    "pycharm": {
     "name": "#%%\n"
    }
   },
   "outputs": [],
   "source": [
    "record_audio(5)"
   ]
  },
  {
   "cell_type": "code",
   "execution_count": null,
   "metadata": {
    "pycharm": {
     "name": "#%%\n"
    }
   },
   "outputs": [],
   "source": [
    "from time import sleep\n",
    "\n",
    "\n",
    "def get_voice_input():\n",
    "    sleep(1.5)\n",
    "    record_audio(7,'voice_input.wav')\n",
    "    result = model.transcribe('voice_input.wav')\n",
    "    output_text = result[\"text\"]\n",
    "    print(f'User says: \"{output_text}\"')\n",
    "    return output_text"
   ]
  },
  {
   "cell_type": "code",
   "execution_count": null,
   "metadata": {
    "pycharm": {
     "name": "#%%\n"
    }
   },
   "outputs": [],
   "source": [
    "#result = model.transcribe('output.wav')\n",
    "result = model.transcribe('bird_dream1.wav')\n",
    "output_text = result[\"text\"]\n",
    "print(output_text)\n"
   ]
  },
  {
   "cell_type": "code",
   "execution_count": null,
   "metadata": {
    "pycharm": {
     "name": "#%%\n"
    }
   },
   "outputs": [],
   "source": [
    "print(output_text)"
   ]
  },
  {
   "cell_type": "code",
   "execution_count": null,
   "metadata": {
    "pycharm": {
     "name": "#%%\n"
    }
   },
   "outputs": [],
   "source": [
    "doc = nlp(output_text)\n",
    "print([(w.text, w.pos_) for w in doc])\n",
    "for token in doc:\n",
    "    print(token.text, token.lemma_, token.pos_, token.tag_, token.dep_,\n",
    "            token.shape_, token.is_alpha, token.is_stop)\n"
   ]
  },
  {
   "cell_type": "code",
   "execution_count": null,
   "metadata": {
    "pycharm": {
     "name": "#%%\n"
    }
   },
   "outputs": [],
   "source": [
    "openai.api_key = API_KEY\n",
    "model_engine = \"davinci-instruct-beta\"\n",
    "prompt = (f\"Split the following story into different visual scene descriptions for an image generator model: {output_text}\")\n",
    "completions = openai.Completion.create(\n",
    "    engine=model_engine,\n",
    "    prompt=prompt,\n",
    "    max_tokens=1024,\n",
    "    n=1,\n",
    "    stop=None,\n",
    "    temperature=0.7,\n",
    ")\n",
    "\n",
    "# Print the generated text\n",
    "generated_text = completions.choices[0].text\n",
    "print(generated_text)"
   ]
  },
  {
   "cell_type": "code",
   "execution_count": null,
   "metadata": {
    "pycharm": {
     "name": "#%%\n"
    }
   },
   "outputs": [],
   "source": [
    "generated_text = \"1) There was some kind of ritual or something. I'm with a group of people and we had to shelter in this wooden structure or house. \\\n",
    "2) There were animals inside and we had to do something every day and I can't remember exactly what it was, but then it was also connected to work somehow and led into the next dream.\\\n",
    "2a) All I remember was that somebody came back and was asking for water and it was kind of a big deal to have water. \\\n",
    "2b) Oh, and one of the people that kept coming in was familiar to me, but I can't remember them now. \\\n",
    "2c) It was a person who turned into a bird and he was hopping around inside of the structure. \\\n",
    "3) It was a crow or something smaller, but black.\""
   ]
  },
  {
   "cell_type": "code",
   "execution_count": null,
   "metadata": {
    "pycharm": {
     "name": "#%%\n"
    }
   },
   "outputs": [],
   "source": [
    "import re\n",
    "replaced = re.sub(r'[0-9][a-z]?\\)', '', generated_text)\n",
    "text_list = replaced.strip().split(\".\")\n",
    "print(text_list[0])"
   ]
  },
  {
   "cell_type": "code",
   "execution_count": null,
   "metadata": {
    "pycharm": {
     "name": "#%%\n"
    }
   },
   "outputs": [],
   "source": [
    "import torch\n",
    "torch.cuda.empty_cache()"
   ]
  },
  {
   "cell_type": "code",
   "execution_count": null,
   "metadata": {
    "pycharm": {
     "name": "#%%\n"
    }
   },
   "outputs": [],
   "source": [
    "\n",
    "url = \"http://127.0.0.1:7860\"\n",
    "#url = 'https://8a32c768452e9375.gradio.app:7860'\n",
    "# prompt = 'A group of people are participating in a ritual or ceremony ((inside)) a wooden structure or house.\\\n",
    "# The setting is dimly lit, and there are animals present, possibly caged or confined.\\\n",
    "# The group is all wearing ceremonial garb and performing some kind of work or task that is connected to the ritual.'\n",
    "prompt = \"A man turns into a crow inside a simple, rural dwelling\"\n",
    "# tokens to append to the query\n",
    "tokens = 'expressive oil painting,whimsical atmosphere,amazing,artistic,vibrant,detailed,award winning, concept art, intricate details, realistic, Hyperdetailed, 8K resolution. Dramatic light, Octane render'\n",
    "negative_prompt = 'watermark,signature,signed,text'\n",
    "payload = {\n",
    "  \"enable_hr\": 'false',\n",
    "  \"denoising_strength\": 0,\n",
    "  \"firstphase_width\": 0,\n",
    "  \"firstphase_height\": 0,\n",
    "  \"prompt\": f'{prompt+tokens}',\n",
    "  \"styles\": [\n",
    "    \"string\"\n",
    "  ],\n",
    "  \"seed\": -1,\n",
    "  \"subseed\": -1,\n",
    "  \"subseed_strength\": 0,\n",
    "  \"seed_resize_from_h\": -1,\n",
    "  \"seed_resize_from_w\": -1,\n",
    "  \"sampler_name\": \"DPM++ 2M\",\n",
    "  \"batch_size\": 1,\n",
    "  \"n_iter\": 1,\n",
    "  \"steps\": 30,\n",
    "  \"cfg_scale\": 7.5,\n",
    "  \"width\": 512,\n",
    "  \"height\": 512,\n",
    "  \"restore_faces\": 'false',\n",
    "  \"tiling\": 'false',\n",
    "  \"negative_prompt\": f'{negative_prompt}',\n",
    "  \"eta\": 0,\n",
    "  \"s_churn\": 0,\n",
    "  \"s_tmax\": 0,\n",
    "  \"s_tmin\": 0,\n",
    "  \"s_noise\": 1  \n",
    "}\n",
    "#{'prompt': 'A painting of a forest,oil paints','sampler_index':'DDIM','steps':'15'}\n",
    "x = requests.post(url+'/sdapi/v1/txt2img',json = payload)\n",
    "print(x)\n",
    "\n",
    "# check if the image wasn't filterd due to nsfw\n",
    "for i in range(0,len(x.json()['images'])):\n",
    "    im = Image.open(BytesIO(base64.b64decode(x.json()['images'][i])))\n",
    "    extrema = im.convert(\"L\").getextrema()\n",
    "    if not extrema == (0, 0):\n",
    "        im.show()\n",
    "    else:\n",
    "        print(\"Image completley black!\")"
   ]
  },
  {
   "cell_type": "code",
   "execution_count": null,
   "metadata": {
    "pycharm": {
     "name": "#%%\n"
    }
   },
   "outputs": [],
   "source": [
    "url = \"http://127.0.0.1:7860\"\n",
    "\n",
    "payload = {\n",
    "  \"enable_hr\": 'false',\n",
    "  \"denoising_strength\": 0,\n",
    "  \"firstphase_width\": 0,\n",
    "  \"firstphase_height\": 0,\n",
    "  \"prompt\": f'{prompt+tokens}',\n",
    "  \"styles\": [\n",
    "    \"string\"\n",
    "  ],\n",
    "  \"seed\": -1,\n",
    "  \"subseed\": -1,\n",
    "  \"subseed_strength\": 0,\n",
    "  \"seed_resize_from_h\": -1,\n",
    "  \"seed_resize_from_w\": -1,\n",
    "  \"sampler_name\": \"Euler a\",\n",
    "  \"batch_size\": 1,\n",
    "  \"n_iter\": 1,\n",
    "  \"steps\": 20,\n",
    "  \"cfg_scale\": 7,\n",
    "  \"width\": 512,\n",
    "  \"height\": 512,\n",
    "  \"restore_faces\": 'false',\n",
    "  \"tiling\": 'false',\n",
    "  \"negative_prompt\": \"string\",\n",
    "  \"eta\": 0,\n",
    "  \"s_churn\": 0,\n",
    "  \"s_tmax\": 0,\n",
    "  \"s_tmin\": 0,\n",
    "  \"s_noise\": 1,\n",
    "  \"override_settings\": {},\n",
    "  \"script_args\": [\"realistic\",\"true\", \"true\", \"true\", \"true\", \"Auto\", 0.5,1],\n",
    "  \"script_name\": \"Daam script\"\n",
    "}\n",
    "x = requests.post(url+'/sdapi/v1/txt2img/script',json = payload)\n",
    "print(x)\n",
    "\n",
    "# check if the image wasn't filterd due to nsfw\n",
    "for i in range(0,len(x.json()['images'])):\n",
    "    im = Image.open(BytesIO(base64.b64decode(x.json()['images'][i])))\n",
    "    extrema = im.convert(\"L\").getextrema()\n",
    "    if not extrema == (0, 0):\n",
    "        im.show()\n",
    "    else:\n",
    "        print(\"Image completley black!\")"
   ]
  },
  {
   "cell_type": "code",
   "execution_count": null,
   "metadata": {
    "pycharm": {
     "name": "#%%\n"
    }
   },
   "outputs": [],
   "source": [
    "url = \"http://127.0.0.1:7860\"\n",
    "\n",
    "im = Image.open(\"crow.png\")\n",
    "byteIO = BytesIO()\n",
    "im.save(byteIO, format='PNG')\n",
    "buffered = byteIO.getvalue()\n",
    "img_str =  str(base64.b64encode(buffered), 'utf-8')\n",
    "prompt = \"A man turns into a crow inside a simple, rural dwelling\"\n",
    "payload ={\n",
    "  \"init_images\": [\n",
    "    img_str\n",
    "  ],\n",
    "  \"resize_mode\": 0,\n",
    "  \"denoising_strength\": 0.75,\n",
    "  \"mask_blur\": 4,\n",
    "  \"inpainting_fill\": 0,\n",
    "  \"inpaint_full_res\": \"true\",\n",
    "  \"inpaint_full_res_padding\": 0,\n",
    "  \"inpainting_mask_invert\": 0,\n",
    "  \"initial_noise_multiplier\": 0,\n",
    "  \"prompt\": \"\",\n",
    "  \"styles\": [\n",
    "    \"string\"\n",
    "  ],\n",
    "  \"seed\": -1,\n",
    "  \"subseed\": -1,\n",
    "  \"subseed_strength\": 0,\n",
    "  \"seed_resize_from_h\": -1,\n",
    "  \"seed_resize_from_w\": -1,\n",
    "  \"sampler_name\": \"string\",\n",
    "  \"batch_size\": 1,\n",
    "  \"n_iter\": 1,\n",
    "  \"steps\": 50,\n",
    "  \"cfg_scale\": 7,\n",
    "  \"width\": 512,\n",
    "  \"height\": 512,\n",
    "  \"restore_faces\": \"false\",\n",
    "  \"tiling\": \"false\",\n",
    "  \"negative_prompt\": \"string\",\n",
    "  \"eta\": 0,\n",
    "  \"s_churn\": 0,\n",
    "  \"s_tmax\": 0,\n",
    "  \"s_tmin\": 0,\n",
    "  \"s_noise\": 1,\n",
    "  \"override_settings\": {},\n",
    "  \"script_args\": [\n",
    "    \"string\"\n",
    "  ],\n",
    "  \"sampler_index\": \"Euler\",\n",
    "  \"include_init_images\": \"false\"\n",
    "}\n",
    "x = requests.post(url+'/sdapi/v1/img2img',json = payload)\n",
    "print(x)\n",
    "if(x.status_code == 200):\n",
    "  for i in range(0,len(x.json()['images'])):\n",
    "    im = Image.open(BytesIO(base64.b64decode(x.json()['images'][i])))\n",
    "    extrema = im.convert(\"L\").getextrema()\n",
    "    if not extrema == (0, 0):\n",
    "        im.show()\n",
    "    else:\n",
    "        print(\"Image completley black!\")\n",
    "else:\n",
    "    print(x.response)\n",
    "    print(\"Error\")\n",
    "    \n",
    "# check if the image wasn't filterd due to nsfw\n"
   ]
  },
  {
   "cell_type": "code",
   "execution_count": null,
   "metadata": {
    "pycharm": {
     "name": "#%%\n"
    }
   },
   "outputs": [],
   "source": [
    "print(x.json())"
   ]
  },
  {
   "cell_type": "code",
   "execution_count": null,
   "metadata": {
    "pycharm": {
     "name": "#%%\n"
    }
   },
   "outputs": [],
   "source": [
    "\n",
    "# here are some \"magic words\"\n",
    "# that will make our promt better\n",
    "magic_words = [\"HDR\", \"UHD\", \"4K\", \"8K\", \"64K\", \"highly detailed\",\n",
    "               \"studio lighting\", \"Professional\", \"trending on artstation\",\n",
    "               \"unreal engine\", \"vivid colors\", \"bokeh\", \"cinematic\",\n",
    "               \"High resolution scan\"]\n",
    "# some parameters\n",
    "default_img_size = \"512x512\"\n",
    "default_img_format = \"png\"\n",
    "# good balance\n",
    "default_cfg = 7\n",
    "default_step_count = 50\n",
    "default_seed = \"random\"\n",
    "# recommended to beginners since it's fast and can usually generate\n",
    "# good images with only 10 steps\n",
    "default_sampler = \"DDIM\"\n",
    "\n",
    "# negative prompt\n",
    "negative_prompt = \"lowres, text, error, cropped, worst quality, low quality,\" \\\n",
    "                  \" jpeg artifacts, ugly, duplicate, morbid, mutilated, out of\" \\\n",
    "                  \" frame, extra fingers, mutated hands, poorly drawn hands,\" \\\n",
    "                  \" poorly drawn face, mutation, deformed, blurry, dehydrated, bad anatomy,\" \\\n",
    "                  \" bad proportions, extra limbs, cloned face, disfigured, gross proportions,\" \\\n",
    "                  \" malformed limbs, missing arms, missing legs, extra arms, extra legs,\" \\\n",
    "                  \" fused fingers, too many fingers, long neck, username, watermark, signature\"\n",
    "\n",
    "def input_validation(user_input, valid_input_list):\n",
    "    while True:\n",
    "        if user_input in valid_input_list:\n",
    "            return user_input\n",
    "        else:\n",
    "            print(\"I'm sorry, I didn't understand that. Please answer:\\n\" + ' or\\n'.join(valid_input_list) + '!')\n",
    "            user_input = get_voice_input()\n",
    "            continue\n",
    "\n",
    "\n",
    "def yes_no_validation(user_input):\n",
    "    while True:\n",
    "        if \"yes\" in user_input or \"Yes\" in user_input:\n",
    "            return True\n",
    "        elif \"no\" in user_input or \"No\" in user_input:\n",
    "            return False\n",
    "        else:\n",
    "            print(\"I'm sorry, I didn't understand that. Please answer \\\"yes\\\" or \\\"no\\\"!\")\n",
    "            user_input = get_voice_input()\n",
    "            continue\n",
    "\n",
    "\n",
    "def edit_component(component, list_of_options, user_input):\n",
    "    print(f\"Would you like to edit the {component} of the image?\\n\"\n",
    "          \"Please answer \\\"yes\\\" or \\\"no\\\" \\n(answer \\\"no\\\" \"\n",
    "          f\"if you already satisfied with the {component} or already mentioned it in the prompt)\")\n",
    "    fourth_input = input()\n",
    "    answer = yes_no_validation(fourth_input)\n",
    "    if answer:\n",
    "        print(f\"Let's choose a {component}!\")\n",
    "        print(\"Please choose one of the following:\")\n",
    "        print('\\n'.join(list_of_options))\n",
    "        fifth_input = input()\n",
    "        fifth_input = input_validation \\\n",
    "            (fifth_input, list_of_options)\n",
    "        user_input = user_input + \", \" + fifth_input + \" \" + component\n",
    "        return answer, user_input\n",
    "    else:\n",
    "        print(\"Okay, let's continue!\")\n",
    "        return answer, user_input\n",
    "\n",
    "\n",
    "def generate_image(user_input, mode=\"txt2img\", flag=False):\n",
    "    print(\"Okay, creating your image now! please wait a few seconds...\")\n",
    "    print(\"The prompt is: \" + user_input)\n",
    "    #################################################\n",
    "    # ~~~~~~~~~~~~~~~~~~~~~~~~~~~~~~~~~~~~~~~~~~~~~ #\n",
    "    # making api call to the server, and showing the image after we get the response\n",
    "    # ~~~~~~~~~~~~~~~~~~~~~~~~~~~~~~~~~~~~~~~~~~~~~ #\n",
    "    #################################################\n",
    "    print(\"Here's your image! I hope you like it!\")\n",
    "    print(\"[IMAGE]\")\n",
    "    if flag:\n",
    "        print(\"We can make it better if you want to!\")\n",
    "    continue_or_exit()\n",
    "\n",
    "\n",
    "def generate_or_edit(user_input, mode=\"txt2img\"):\n",
    "    print(\"Would you like to generate the image now or continue editing it?\"\n",
    "          \" Please answer \\\"generate\\\" or \\\"continue\\\"\")\n",
    "    sixth_input = input()\n",
    "    sixth_input = input_validation(sixth_input, [\"generate\", \"continue\"])\n",
    "    if sixth_input == \"generate\":\n",
    "        print(\"Okay, generating your image now! please wait a few seconds...\")\n",
    "        generate_image(user_input, mode)\n",
    "    else:\n",
    "        print(\"Okay, let's continue editing!\")\n",
    "        return\n",
    "\n",
    "\n",
    "def continue_or_exit():\n",
    "    print(\"Do you want to continue the process?\\n\"\n",
    "          \"Please answer \\\"yes\\\" or \\\"no\\\"\")\n",
    "\n",
    "    third_input = input()\n",
    "    if yes_no_validation(third_input):\n",
    "        print(\"Great! Let's continue!\")\n",
    "    else:\n",
    "        print(\"Okay, I hope you liked the image! Bye!\")\n",
    "        # TODO: add a way to save the image\n",
    "        exit()\n",
    "\n",
    "\n",
    "#####################################################################################\n",
    "\n",
    "\n",
    "\n",
    "print(\"Hello there! I'm Lisa! so nice to meet you\"\n",
    "      \" here!\\nI'm a chatbot, so I can't really \"\n",
    "      \"talk to you, but I can help you with drawing\"\n",
    "      \" some nice images!\\nSo, what do you want to draw?\\n\"\n",
    "      \"please mention also if you want image or painting, for better results!\\n\")\n",
    "user_input = \"\"\n",
    "while True:\n",
    "    second_input = input(\"Press any key to continue...\")\n",
    "    user_input = get_voice_input()\n",
    "    print(\"Before we continue, is this your desired prompt: \\n\\\"\" + user_input + \"\\\"?\")\n",
    "    second_input = input()\n",
    "    if yes_no_validation(second_input):\n",
    "        print(\"Great! Let's continue!\")\n",
    "        break\n",
    "    else:\n",
    "        print(\"Oh, I'm sorry! Let's try again!\")\n",
    "        continue\n",
    "\n",
    "generate_image(user_input, \"txt2img\", flag=True)\n",
    "\n",
    "# we will try to enhance the prompt, and then show the image again - hopefully better\n",
    "# we used the prompt guide from the paper:\n",
    "# https://cdn.openart.ai/assets/Stable%20Diffusion%20Prompt%20Book%20From%20OpenArt%2011-13.pdf\n",
    "\n",
    "lighting_list = [\"Daylight\", \"Overcast\", \"Night\", \"Flash\", \"Fluorescent\", \"Incandescent\", \"Soft\",\n",
    "                 \"Ambient\", \"Sunlight\", \"Shade\", \"Backlight\", \"Candlelight\", \"Cinematic\", \"Nostalgic\",\n",
    "                 \"Sun Rays\", \"Purple Haze\", \"Neon\"]\n",
    "\n",
    "answer, user_input = edit_component(\"lighting\", lighting_list, user_input)\n",
    "if answer: generate_or_edit(user_input, \"img2img\")\n",
    "\n",
    "environment_list = [\"Indoor\", \"Outdoor\", \"Urban\", \"Rural\", \"Natural\", \"Artificial\", \"Cinematic\", \"Fantasy\",\n",
    "                    \"In Space\", \"In Water\", \"In Air\", \"In a Room\", \"In a Building\", \"In a Forest\", \"In a City\"]\n",
    "\n",
    "answer, user_input = edit_component(\"environment\", environment_list, user_input)\n",
    "if answer: generate_or_edit(user_input, \"img2img\")\n",
    "\n",
    "color_scheme_list = [\"Monochrome\", \"Grayscale\", \"Color\", \"Vibrant\", \"Pastel\", \"dark\",\n",
    "                     \"light\", \"warm\", \"cool\", \"Complementary\", \"Analogous\", \"Triadic\", \"split-complementary\"]\n",
    "\n",
    "answer, user_input = edit_component(\"color scheme\", color_scheme_list, user_input)\n",
    "if answer: generate_or_edit(user_input, \"img2img\")\n",
    "\n",
    "shot_type_list = [\"Close-up\", \"Mid-shot\", \"Long-shot\", \"Extreme close-up\", \"Extreme long-shot\", \"POV\"]\n",
    "answer, user_input = edit_component(\"shot type\", shot_type_list, user_input)\n",
    "if answer: generate_or_edit(user_input, \"img2img\")\n",
    "\n",
    "style_list = [\"Realistic\", \"Abstract\", \"Cartoon\", \"Fantasy\", \"Photorealistic\", \"Surreal\", \"Polaroid\",\n",
    "              \"Sketch\", \"Line Art\", \"Watercolor\", \"Oil Painting\", \"Acrylic Painting\", \"Digital Painting\", \"Mixed Media\"\n",
    "    , \"Graffiti\", \"Manga\", \"Anime\", \"Comic\", \"Illustration\", \"3D\", \"3D Cartoon\", \"3D Realistic\",\n",
    "              \"chalk\", \"pencil sketch\", \"caricature\", \"pop art\", \"pixel art\", \"vector art\", \"collage\", \"mosaic\",\n",
    "              \"horror\"]\n",
    "answer, user_input = edit_component(\"style\", style_list, user_input)\n",
    "if answer: generate_or_edit(user_input, \"img2img\")\n",
    "\n",
    "emotion_list = [\"Happy\", \"Sad\", \"Angry\", \"Fearful\", \"Surprised\", \"Disgusted\", \"Calm\", \"Bored\", \"Excited\",\n",
    "                 \"Romantic\", \"Sexy\", \"Gloomy\", \"Eerie\", \"Mysterious\", \"Elegant\", \"Glamorous\", \"Playful\",\n",
    "                 \"Childish\", \"Cute\", \"Funny\", \"Grim\", \"Gory\"]\n",
    "answer, user_input = edit_component(\"emotion\", emotion_list, user_input)\n",
    "if answer: generate_or_edit(user_input, \"img2img\")\n"
>>>>>>> a82f82adc4a9bcb384bce08b7582ff59ae331af1
   ]
  }
 ],
 "metadata": {
  "kernelspec": {
<<<<<<< HEAD
   "display_name": "base",
=======
   "display_name": "Python 3.9.12 ('base')",
>>>>>>> a82f82adc4a9bcb384bce08b7582ff59ae331af1
   "language": "python",
   "name": "python3"
  },
  "language_info": {
<<<<<<< HEAD
   "name": "python",
=======
   "codemirror_mode": {
    "name": "ipython",
    "version": 3
   },
   "file_extension": ".py",
   "mimetype": "text/x-python",
   "name": "python",
   "nbconvert_exporter": "python",
   "pygments_lexer": "ipython3",
>>>>>>> a82f82adc4a9bcb384bce08b7582ff59ae331af1
   "version": "3.9.12 (main, Apr  4 2022, 05:22:27) [MSC v.1916 64 bit (AMD64)]"
  },
  "orig_nbformat": 4,
  "vscode": {
   "interpreter": {
    "hash": "37f3578b87c31b783d1ad88d8b899f16482ddf7675847c0e65d4369918cd551c"
   }
  }
 },
 "nbformat": 4,
 "nbformat_minor": 2
}
